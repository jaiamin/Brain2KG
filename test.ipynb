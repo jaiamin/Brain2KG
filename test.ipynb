{
 "cells": [
  {
   "cell_type": "code",
   "execution_count": 3,
   "metadata": {},
   "outputs": [
    {
     "ename": "ModuleNotFoundError",
     "evalue": "No module named 'text2kg'",
     "output_type": "error",
     "traceback": [
      "\u001b[0;31m---------------------------------------------------------------------------\u001b[0m",
      "\u001b[0;31mModuleNotFoundError\u001b[0m                       Traceback (most recent call last)",
      "Cell \u001b[0;32mIn[3], line 8\u001b[0m\n\u001b[1;32m      5\u001b[0m \u001b[38;5;28;01mif\u001b[39;00m module_path \u001b[38;5;129;01mnot\u001b[39;00m \u001b[38;5;129;01min\u001b[39;00m sys\u001b[38;5;241m.\u001b[39mpath:\n\u001b[1;32m      6\u001b[0m     sys\u001b[38;5;241m.\u001b[39mpath\u001b[38;5;241m.\u001b[39mappend(module_path\u001b[38;5;241m+\u001b[39m\u001b[38;5;124m'\u001b[39m\u001b[38;5;130;01m\\\\\u001b[39;00m\u001b[38;5;124mbrain2kg\u001b[39m\u001b[38;5;124m'\u001b[39m)\n\u001b[0;32m----> 8\u001b[0m \u001b[38;5;28;01mfrom\u001b[39;00m \u001b[38;5;21;01mtext2kg\u001b[39;00m\u001b[38;5;21;01m.\u001b[39;00m\u001b[38;5;21;01meda_pipeline\u001b[39;00m \u001b[38;5;28;01mimport\u001b[39;00m EDA\n",
      "\u001b[0;31mModuleNotFoundError\u001b[0m: No module named 'text2kg'"
     ]
    }
   ],
   "source": [
    "from brain2kg.text2kg.eda_pipeline import EDA"
   ]
  },
  {
   "cell_type": "code",
   "execution_count": 13,
   "metadata": {},
   "outputs": [],
   "source": [
    "input_raw_text = \"\"\"\\\n",
    "Alan Shepard was born on Nov 18, 1923 and selected by NASA in 1959. Alan Shepard was a member of the Apollo 14 crew. \\\n",
    "\"\"\"\n",
    "\n",
    "config = {\n",
    "    # OIE\n",
    "    'oie_llm': 'llama3.1',\n",
    "    'oie_prompt_template_file_path': 'prompt_templates/oie_fsp_template.txt',\n",
    "    'oie_few_shot_example_file_path': 'few_shot_examples/oie_few_shot_examples.txt',\n",
    "    # SD\n",
    "    'sd_llm': 'llama3.1',\n",
    "    'sd_prompt_template_file_path': 'prompt_templates/sd_fsp_template.txt',\n",
    "    'sd_few_shot_example_file_path': 'few_shot_examples/sd_few_shot_examples.txt',\n",
    "    # SA\n",
    "    'sa_target_schema_file_path': 'schemas/webnlg_schema.csv',\n",
    "    'sa_llm': 'llama3.1',\n",
    "    'sa_embedding_model': 'sentence-transformers/all-MiniLM-L6-v2',\n",
    "    'sa_prompt_template_file_path': 'prompt_templates/sa_template.txt'\n",
    "}"
   ]
  },
  {
   "cell_type": "code",
   "execution_count": 14,
   "metadata": {},
   "outputs": [],
   "source": [
    "eda = EDA(**config)"
   ]
  },
  {
   "cell_type": "code",
   "execution_count": 15,
   "metadata": {},
   "outputs": [
    {
     "name": "stderr",
     "output_type": "stream",
     "text": [
      " 50%|█████     | 1/2 [00:07<00:07,  7.38s/it]"
     ]
    },
    {
     "name": "stdout",
     "output_type": "stream",
     "text": [
      "----------\n",
      "RAW:\n",
      "[['Alan_Shepard', 'birthDate', 'Nov_18,_1923'], ['NASA', 'selected', 'Alan_Shepard']]\n",
      "----------\n"
     ]
    },
    {
     "name": "stderr",
     "output_type": "stream",
     "text": [
      "100%|██████████| 2/2 [00:08<00:00,  4.25s/it]\n"
     ]
    },
    {
     "name": "stdout",
     "output_type": "stream",
     "text": [
      "----------\n",
      "RAW:\n",
      "[['Alan_Shepard', 'memberOf', 'Apollo_14']]\n",
      "----------\n"
     ]
    },
    {
     "name": "stderr",
     "output_type": "stream",
     "text": [
      " 50%|█████     | 1/2 [00:09<00:09,  9.80s/it]"
     ]
    },
    {
     "name": "stdout",
     "output_type": "stream",
     "text": [
      "----------\n",
      "RAW:\n",
      "birthDate: The subject entity was born on the date specified by the object entity.\n",
      "selected: The person or organization specified by the object entity selected or chose the person specified by the subject entity.\n",
      "----------\n"
     ]
    },
    {
     "name": "stderr",
     "output_type": "stream",
     "text": [
      "100%|██████████| 2/2 [00:11<00:00,  5.69s/it]\n"
     ]
    },
    {
     "name": "stdout",
     "output_type": "stream",
     "text": [
      "----------\n",
      "RAW:\n",
      "memberOf: The subject entity is a part of or includes the group specified by the object entity.\n",
      "----------\n"
     ]
    },
    {
     "name": "stderr",
     "output_type": "stream",
     "text": [
      "  0%|          | 0/2 [00:00<?, ?it/s]"
     ]
    },
    {
     "name": "stdout",
     "output_type": "stream",
     "text": [
      "---\n",
      "{'birthDate': 'The subject entity was born on the date specified by the object entity.', 'discovered': 'The subject entity was discovered on the date specified by the object entity.', 'buildingStartDate': 'The construction of the subject entity started on the date specified by the object.', 'birthPlace': 'The subject entity was born in the location specified by the object entity.', 'established': 'The subject entity was established or created in the year specified by the object entity.'}\n",
      "---\n",
      "----------\n",
      "RAW:\n",
      "B.\n",
      "----------\n",
      "CHOICES\n",
      "A. 'birthDate': The subject entity was born on the date specified by the object entity.\n",
      "B. 'discovered': The subject entity was discovered on the date specified by the object entity.\n",
      "C. 'buildingStartDate': The construction of the subject entity started on the date specified by the object.\n",
      "D. 'birthPlace': The subject entity was born in the location specified by the object entity.\n",
      "E. 'established': The subject entity was established or created in the year specified by the object entity.\n",
      "F. None of the above.\n",
      "\n",
      "----------\n",
      "---\n",
      "{'birthDate': 'The subject entity was born on the date specified by the object entity.', 'discovered': 'The subject entity was discovered on the date specified by the object entity.', 'buildingStartDate': 'The construction of the subject entity started on the date specified by the object.', 'birthPlace': 'The subject entity was born in the location specified by the object entity.', 'established': 'The subject entity was established or created in the year specified by the object entity.'}\n",
      "---\n"
     ]
    },
    {
     "name": "stderr",
     "output_type": "stream",
     "text": [
      " 50%|█████     | 1/2 [00:02<00:02,  2.62s/it]"
     ]
    },
    {
     "name": "stdout",
     "output_type": "stream",
     "text": [
      "----------\n",
      "RAW:\n",
      "B.\n",
      "----------\n",
      "CHOICES\n",
      "A. 'birthDate': The subject entity was born on the date specified by the object entity.\n",
      "B. 'discovered': The subject entity was discovered on the date specified by the object entity.\n",
      "C. 'buildingStartDate': The construction of the subject entity started on the date specified by the object.\n",
      "D. 'birthPlace': The subject entity was born in the location specified by the object entity.\n",
      "E. 'established': The subject entity was established or created in the year specified by the object entity.\n",
      "F. None of the above.\n",
      "\n",
      "----------\n",
      "---\n",
      "{'director': 'The subject entity is directed or managed by the person specified by the object entity.', 'president': 'The subject entity is presided over by the person specified by the object entity.', 'successor': 'The subject entity was succeeded in their position by the person specified by the object entity.', 'operatingOrganisation': 'The subject entity is operated or managed by the object entity.', 'creator': 'The subject entity is the creator/author of the object.'}\n",
      "---\n"
     ]
    },
    {
     "name": "stderr",
     "output_type": "stream",
     "text": [
      "100%|██████████| 2/2 [00:03<00:00,  1.96s/it]"
     ]
    },
    {
     "name": "stdout",
     "output_type": "stream",
     "text": [
      "----------\n",
      "RAW:\n",
      "C.\n",
      "----------\n",
      "CHOICES\n",
      "A. 'director': The subject entity is directed or managed by the person specified by the object entity.\n",
      "B. 'president': The subject entity is presided over by the person specified by the object entity.\n",
      "C. 'successor': The subject entity was succeeded in their position by the person specified by the object entity.\n",
      "D. 'operatingOrganisation': The subject entity is operated or managed by the object entity.\n",
      "E. 'creator': The subject entity is the creator/author of the object.\n",
      "F. None of the above.\n",
      "\n",
      "----------\n"
     ]
    },
    {
     "name": "stderr",
     "output_type": "stream",
     "text": [
      "\n"
     ]
    }
   ],
   "source": [
    "output_kg_list = eda.extract_kg(\n",
    "    input_raw_text,\n",
    "    output_dir='examples/outputs'\n",
    ")"
   ]
  },
  {
   "cell_type": "code",
   "execution_count": 18,
   "metadata": {},
   "outputs": [
    {
     "data": {
      "text/plain": [
       "[[['Alan_Shepard', 'birthDate', 'Nov_18,_1923'],\n",
       "  ['NASA', 'selected', 'Alan_Shepard']],\n",
       " [['Alan_Shepard', 'memberOf', 'Apollo_14']]]"
      ]
     },
     "execution_count": 18,
     "metadata": {},
     "output_type": "execute_result"
    }
   ],
   "source": [
    "# Before\n",
    "output_kg_list[0]"
   ]
  },
  {
   "cell_type": "code",
   "execution_count": 19,
   "metadata": {},
   "outputs": [
    {
     "data": {
      "text/plain": [
       "[[['Alan_Shepard', 'discovered', 'Nov_18,_1923'],\n",
       "  ['NASA', 'discovered', 'Alan_Shepard']],\n",
       " [['Alan_Shepard', 'successor', 'Apollo_14']]]"
      ]
     },
     "execution_count": 19,
     "metadata": {},
     "output_type": "execute_result"
    }
   ],
   "source": [
    "# After\n",
    "output_kg_list[1]"
   ]
  }
 ],
 "metadata": {
  "kernelspec": {
   "display_name": "venv",
   "language": "python",
   "name": "python3"
  },
  "language_info": {
   "codemirror_mode": {
    "name": "ipython",
    "version": 3
   },
   "file_extension": ".py",
   "mimetype": "text/x-python",
   "name": "python",
   "nbconvert_exporter": "python",
   "pygments_lexer": "ipython3",
   "version": "3.12.4"
  }
 },
 "nbformat": 4,
 "nbformat_minor": 2
}
