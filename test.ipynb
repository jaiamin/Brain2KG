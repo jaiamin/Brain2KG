{
 "cells": [
  {
   "cell_type": "code",
   "execution_count": 1,
   "metadata": {},
   "outputs": [
    {
     "name": "stderr",
     "output_type": "stream",
     "text": [
      "[nltk_data] Downloading package punkt to /Users/jamino/nltk_data...\n",
      "[nltk_data]   Package punkt is already up-to-date!\n",
      "/Users/jamino/Library/Caches/pypoetry/virtualenvs/brain2kg-saEV5tpU-py3.12/lib/python3.12/site-packages/sentence_transformers/cross_encoder/CrossEncoder.py:11: TqdmWarning: IProgress not found. Please update jupyter and ipywidgets. See https://ipywidgets.readthedocs.io/en/stable/user_install.html\n",
      "  from tqdm.autonotebook import tqdm, trange\n"
     ]
    }
   ],
   "source": [
    "from brain2kg.text2kg.eda_pipeline import EDA"
   ]
  },
  {
   "cell_type": "code",
   "execution_count": 2,
   "metadata": {},
   "outputs": [],
   "source": [
    "input_raw_text = \"\"\"\\\n",
    "The location of Trane is Swords, Dublin.\n",
    "The Ciudad Ayala city, a part of Morelos with population density and population of 1604.0 and 1,777,539 respectively, has a UTC offset of -6. The government type of Ciudad Ayala is council-manager government and City Manager is one of the leaders.\n",
    "The 17068.8 millimeter long ALCO RS-3 has a diesel-electric transmission.\n",
    "Alan B. Miller Hall, in Virginia, USA, was designed by Robert A.M. Stern. The address of the hall is \"101 Ukrop Way\" and the current tenants are the Mason School of Business.\n",
    "Liselotte Grschebina was born in Karlsruhe and died in Israel. Ethnic groups in Israel include Arabs.\n",
    "Agremiação Sportiva Arapiraquense managed by Vica has 17000 members and play in the Campeonato Brasileiro Série C league which is from Brazil.\n",
    "Bananaman first aired on the 10th of March, 1983 and was created by Steve Bright. It was broadcast by the BBC.\n",
    "The 11th Mississippi Infantry Monument, built in 2000, is placed in the municipality of Gettysburg in Pennsylvania which is in Adams County, USA. The 11th Mississippi Infantry Monument is classified as a Contributing Property. Cumberland county, Pennsylvania is to the north of Adams County.\n",
    "\"\"\"\n",
    "\n",
    "import random\n",
    "input_raw_text = input_raw_text.splitlines()\n",
    "random.shuffle(input_raw_text)\n",
    "input_raw_text = '\\n'.join(input_raw_text)\n",
    "\n",
    "config = {\n",
    "    # OIE\n",
    "    'oie_llm': 'llama3.1',\n",
    "    'oie_prompt_template_file_path': 'prompt_templates/oie_fsp_template.txt',\n",
    "    'oie_few_shot_example_file_path': 'few_shot_examples/oie_few_shot_examples.txt',\n",
    "    # SD\n",
    "    'sd_llm': 'llama3.1',\n",
    "    'sd_prompt_template_file_path': 'prompt_templates/sd_fsp_template.txt',\n",
    "    'sd_few_shot_example_file_path': 'few_shot_examples/sd_few_shot_examples.txt',\n",
    "    # SA\n",
    "    'sa_target_schema_file_path': 'schemas/webnlg_schema.csv',\n",
    "    'sa_llm': 'llama3.1',\n",
    "    'sa_embedding_model': 'sentence-transformers/all-MiniLM-L6-v2',\n",
    "    'sa_prompt_template_file_path': 'prompt_templates/sa_template.txt'\n",
    "}"
   ]
  },
  {
   "cell_type": "code",
   "execution_count": 3,
   "metadata": {},
   "outputs": [
    {
     "data": {
      "text/plain": [
       "'The 17068.8 millimeter long ALCO RS-3 has a diesel-electric transmission.\\nAlan B. Miller Hall, in Virginia, USA, was designed by Robert A.M. Stern. The address of the hall is \"101 Ukrop Way\" and the current tenants are the Mason School of Business.\\nBananaman first aired on the 10th of March, 1983 and was created by Steve Bright. It was broadcast by the BBC.\\nThe Ciudad Ayala city, a part of Morelos with population density and population of 1604.0 and 1,777,539 respectively, has a UTC offset of -6. The government type of Ciudad Ayala is council-manager government and City Manager is one of the leaders.\\nThe location of Trane is Swords, Dublin.\\nAgremiação Sportiva Arapiraquense managed by Vica has 17000 members and play in the Campeonato Brasileiro Série C league which is from Brazil.\\nLiselotte Grschebina was born in Karlsruhe and died in Israel. Ethnic groups in Israel include Arabs.\\nThe 11th Mississippi Infantry Monument, built in 2000, is placed in the municipality of Gettysburg in Pennsylvania which is in Adams County, USA. The 11th Mississippi Infantry Monument is classified as a Contributing Property. Cumberland county, Pennsylvania is to the north of Adams County.'"
      ]
     },
     "execution_count": 3,
     "metadata": {},
     "output_type": "execute_result"
    }
   ],
   "source": [
    "input_raw_text"
   ]
  },
  {
   "cell_type": "code",
   "execution_count": 4,
   "metadata": {},
   "outputs": [],
   "source": [
    "eda = EDA(**config)"
   ]
  },
  {
   "cell_type": "code",
   "execution_count": 5,
   "metadata": {},
   "outputs": [
    {
     "name": "stderr",
     "output_type": "stream",
     "text": [
      "Extracting: 100%|██████████| 14/14 [00:42<00:00,  3.05s/it]\n",
      "Defining: 100%|██████████| 14/14 [00:48<00:00,  3.45s/it]\n",
      "Aligning: 100%|██████████| 14/14 [00:13<00:00,  1.00it/s]\n"
     ]
    }
   ],
   "source": [
    "output_kg_list = eda.extract_kg(\n",
    "    input_raw_text,\n",
    "    output_dir='examples/outputs'\n",
    ")"
   ]
  },
  {
   "cell_type": "code",
   "execution_count": 6,
   "metadata": {},
   "outputs": [
    {
     "data": {
      "text/plain": [
       "[[['ALCO_RS-3', 'length', '17068.8 (millimetres)'],\n",
       "  ['ALCO_RS-3', 'powerType', 'Diesel-electric_transmission']],\n",
       " [['Alan_B._Miller_Hall', 'architect', 'Robert_A._M._Stern']],\n",
       " [['The_hall', 'address', '\"101 Ukrop Way\"'],\n",
       "  ['Mason_School_of_Business', 'currentTenants', 'The_hall']],\n",
       " [['Bananaman', 'firstAired', 'March_10,_1983'],\n",
       "  ['Bananaman', 'creator', 'Steve_Bright']],\n",
       " [['It_was_broadcast_by_the_BBC', 'broadcaster', 'BBC']],\n",
       " [['Ciudad_Ayala', 'populationDensity', '1604.0'],\n",
       "  ['Ciudad_Ayala', 'populationMetro', '1777539'],\n",
       "  ['Ciudad_Ayala', 'utcOffset', '−6'],\n",
       "  ['Ciudad_Ayala', 'isPartOf', 'Morelos']],\n",
       " [['Ciudad_Ayala', 'governmentType', 'Council-manager_government'],\n",
       "  ['City_Manager', 'title', 'Leader']],\n",
       " [['Trane', 'location', 'Swords,_Dublin']],\n",
       " [['Agremiação_Sportiva_Arapiraquense', 'numberOfMembers', '17000'],\n",
       "  ['Agremiação_Sportiva_Arapiraquense',\n",
       "   'league',\n",
       "   'Campeonato_Brasileiro_Série_C'],\n",
       "  ['Campeonato_Brasileiro_Série_C', 'country', 'Brazil'],\n",
       "  ['Agremiação_Sportiva_Arapiraquense', 'manager', 'Vica']],\n",
       " [['Liselotte_Grschebina', 'bornIn', 'Karlsruhe'],\n",
       "  ['Liselotte_Grschebina', 'diedIn', 'Israel']],\n",
       " [['Israel', 'ethnicGroup', 'Arab_citizens_of_Israel']],\n",
       " [['The_11th_Mississippi_Infantry_Monument', 'builtIn', '2000'],\n",
       "  ['The_11th_Mississippi_Infantry_Monument', 'isLocatedIn', 'Gettysburg'],\n",
       "  ['Adams_County', 'country', 'United_States'],\n",
       "  ['Pennsylvania', 'isPartOf', 'Adams_County']],\n",
       " [['The_11th_Mississippi_Infantry_Monument',\n",
       "   'classification',\n",
       "   'Contributing_Property']],\n",
       " [['Cumberland_county,_Pennsylvania', 'location', 'Adams_County']]]"
      ]
     },
     "execution_count": 6,
     "metadata": {},
     "output_type": "execute_result"
    }
   ],
   "source": [
    "# Before\n",
    "output_kg_list[0]"
   ]
  },
  {
   "cell_type": "code",
   "execution_count": 7,
   "metadata": {},
   "outputs": [
    {
     "data": {
      "text/plain": [
       "[[['ALCO_RS-3', 'length', '17068.8 (millimetres)'],\n",
       "  ['ALCO_RS-3', 'powerType', 'Diesel-electric_transmission']],\n",
       " [['Alan_B._Miller_Hall', 'architect', 'Robert_A._M._Stern']],\n",
       " [['The_hall', 'address', '\"101 Ukrop Way\"'],\n",
       "  ['Mason_School_of_Business', 'tenant', 'The_hall']],\n",
       " [['Bananaman', 'firstAired', 'March_10,_1983'],\n",
       "  ['Bananaman', 'creator', 'Steve_Bright']],\n",
       " [['It_was_broadcast_by_the_BBC', 'author', 'BBC']],\n",
       " [['Ciudad_Ayala', 'populationDensity', '1604.0'],\n",
       "  ['Ciudad_Ayala', 'populationMetro', '1777539'],\n",
       "  ['Ciudad_Ayala', 'utcOffset', '−6'],\n",
       "  ['Ciudad_Ayala', 'isPartOf', 'Morelos']],\n",
       " [['Ciudad_Ayala', 'type', 'Council-manager_government'],\n",
       "  ['City_Manager', 'occupation', 'Leader']],\n",
       " [['Trane', 'location', 'Swords,_Dublin']],\n",
       " [['Agremiação_Sportiva_Arapiraquense', 'numberOfMembers', '17000'],\n",
       "  ['Agremiação_Sportiva_Arapiraquense',\n",
       "   'league',\n",
       "   'Campeonato_Brasileiro_Série_C'],\n",
       "  ['Campeonato_Brasileiro_Série_C', 'country', 'Brazil'],\n",
       "  ['Agremiação_Sportiva_Arapiraquense', 'manager', 'Vica']],\n",
       " [['Liselotte_Grschebina', 'birthPlace', 'Karlsruhe'],\n",
       "  ['Liselotte_Grschebina', 'deathPlace', 'Israel']],\n",
       " [['Israel', 'ethnicGroup', 'Arab_citizens_of_Israel']],\n",
       " [['The_11th_Mississippi_Infantry_Monument', 'buildingStartDate', '2000'],\n",
       "  ['The_11th_Mississippi_Infantry_Monument', 'state', 'Gettysburg'],\n",
       "  ['Adams_County', 'country', 'United_States'],\n",
       "  ['Pennsylvania', 'isPartOf', 'Adams_County']],\n",
       " [['The_11th_Mississippi_Infantry_Monument', 'type', 'Contributing_Property']],\n",
       " [['Cumberland_county,_Pennsylvania', 'location', 'Adams_County']]]"
      ]
     },
     "execution_count": 7,
     "metadata": {},
     "output_type": "execute_result"
    }
   ],
   "source": [
    "# After\n",
    "output_kg_list[1]"
   ]
  }
 ],
 "metadata": {
  "kernelspec": {
   "display_name": "venv",
   "language": "python",
   "name": "python3"
  },
  "language_info": {
   "codemirror_mode": {
    "name": "ipython",
    "version": 3
   },
   "file_extension": ".py",
   "mimetype": "text/x-python",
   "name": "python",
   "nbconvert_exporter": "python",
   "pygments_lexer": "ipython3",
   "version": "3.12.4"
  }
 },
 "nbformat": 4,
 "nbformat_minor": 2
}
