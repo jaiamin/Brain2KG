{
 "cells": [
  {
   "cell_type": "code",
   "execution_count": 1,
   "metadata": {},
   "outputs": [
    {
     "name": "stderr",
     "output_type": "stream",
     "text": [
      "[nltk_data] Downloading package punkt to /Users/jamino/nltk_data...\n",
      "[nltk_data]   Package punkt is already up-to-date!\n",
      "/Users/jamino/Library/Caches/pypoetry/virtualenvs/brain2kg-saEV5tpU-py3.12/lib/python3.12/site-packages/sentence_transformers/cross_encoder/CrossEncoder.py:11: TqdmWarning: IProgress not found. Please update jupyter and ipywidgets. See https://ipywidgets.readthedocs.io/en/stable/user_install.html\n",
      "  from tqdm.autonotebook import tqdm, trange\n"
     ]
    }
   ],
   "source": [
    "from brain2kg.text2kg.eda_pipeline import EDA"
   ]
  },
  {
   "cell_type": "code",
   "execution_count": 2,
   "metadata": {},
   "outputs": [],
   "source": [
    "open('examples.log', 'w').close() # clear local log"
   ]
  },
  {
   "cell_type": "code",
   "execution_count": 3,
   "metadata": {},
   "outputs": [
    {
     "data": {
      "text/plain": [
       "'Trane is located in Ireland.\\nNie Haisheng was born on 10/13/1964, he was a crew member on Shenzhou 6 and took part in the Shenzhou 10 mission.\\nAlan Shepard is an American born on November 18th, 1923 in New Hampshire, graduated from NWC with an M.A. in 1957 where occupation was a test pilot. Alan Shepard was the Chief of the Astronaut Office in 1963 where he died in California.\\nAn ethnic group in Israel is the Israeli Jews.\\nNie Haisheng was born in Hubei of Zaoyang.\\n1634: The Bavarian Crisis, written by Virginia DeMarce and Eric Flint, has 448 pages.\\nIsrael\\'s language is Modern Hebrew.\\nThe 11th Mississippi Infantry Monument was established in the year 2000 in Gettysburg, Pennsylvania in Adams County.\\nLiselotte Grschebina, a professional photographer, was born on May 2, 1908.\\nThe founding date of Gdynia, a city in Poland is Feb 10th, 1926.\\nLiselotte Grschebina is an Israeli national who was born on May 2, 1908, did her studies at the School of Applied Arts in Stuttgart and died in Israel on June 14, 1994.\\nCiudad Ayala is a part of Morelos, which is located in the country of Mexico. Ciudad Ayala city has a population density of 1604.0, the time zone is in PDT and its elevation is 1147.0 above sea level. One of the leaders of Ciudad Ayala is the City Manager.\\nThe 11th Mississippi Infantry Monument was established in 2000 in the municipality of Gettysburg, Adams County, Pennsylvania.\\nBionico (a dessert) is a food found in Mexico, where the currency is the peso. A variation on dessert is cake.\\nThe University of Burgundy, located in the city of Dijon, has 16,800 undergraduate students and 1299 doctoral students.\\nThe construction of Alan B. Miller Hall lasted from March 30th, 2007 to June 1st, 2009. Robert A. M. Stern is the architect of the building. Alan B. Miller Hall is located at 101 Ukrop Way, Virginia, and is owned by the College of William and Mary.\\nLiselotte Grschebina, born in the German Empire, did her studies at the School of Applied Arts in Stuttgart.\\nAleksandr Prudnikov was born on 24th February 1989 and played for FC Terek Grozny located in Grozny and managed by Rashid Rakhimov. Aleksandr Prudnikov currently plays for FC Amkar Perm.\\nEstádio Municipal Coaracy da Mata Fonseca is the name of the ground of Agremiação Sportiva Arapiraquense & located in Arapiraca. Agremiação Sportiva Arapiraquense play in the Campeonato Brasileiro Série C league from Brazil (champions were The Vila Nova Futebol Clube), played in the 2015 season, and has 17000 members.\\nParti Pesaka Bumiputera Bersatu member, Abdul Taib Mahmud was succeeded by Adenan Satem.\\nIn Mexico, Bionico consists of the main ingredients: sour cream, chopped fruits, condensed milk, granola, raisins and shredded coconut.\\nThe city Ciudad Ayala has population 1,777,539 making the density 1604.0 in Mexico. One of the leaders in the council-manager government is the City Manager.\\nAlan Shepard was born on November the 18th, 1923 in New Hampshire.\\nSour cream, chopped fruits, condensed milk, granola, raisins and shredded coconut are the main ingredients in Bionico (served at the dessert course) is a food found in Mexico. The currency in Mexico is the Mexican peso inhabited by the Mexicans.\\nLiselotte Grschebina was born in Karlsruhe on 1908-05-02.\\nAleksandr Prudnikov was born on February 24, 1989 and currently plays for the FC Amkar Perm football club, but he previously played youth football for FC Spartak Moscow, which is located at the Otkrytiye Arena.\\nHypermarcas, located in Sao Paulo, makes healthcare products with a revenue of $1,800,000,000 and has a subsidiary called Mantecorp.\\nBananaman premiered on October 3rd 1983 on the \"STV\" network.\\nLiselotte Grschebina was born in Karlsruhe, in the German Empire, on May 2nd, 1908 and died in Israel on June 14th, 1994. She was an Israeli national and attended the School of Applied Arts in Stuttgart.\\nAlvinegro is the nickname for the Agremiação Sportiva Arapiraquense club, which has 17000 members and played in the Brazilian Campeonato Brasileiro Série C league. Its ground is the Estadio Municipal Coaracy da Mata Fonseca located in Arapiraca. The Vila Nova Futebol Clube are the champions of the league.\\nThe Trane company is a subsidiary founded in La Crosse Wisconsin on 1913-01-01. Their industry is building materials, and they produce HVAC. Currently based in Ireland, they employ 29,000 people.\\nThe total population of Mexico is 119,530,753.\\nThe 11th Mississippi infantry monument\\'s location is Adams county, east of Franklin County, Pennsylvania. It was established in the year 2000. It falls under the category of contributing property.\\nThe 11th Mississippi Infantry Monument, which is a contributing property, was established in the year 2000 in Adams County. To the southeast of Adams County, Pennsylvania lies Carroll County, Maryland and Frederick County, Maryland lies to the southwest.\\nThe Mason School of Business are the current tenants of Alan B Miller Hall, located at \"101 Ukrop Way.\"\\nFirst aired in October of 1983, Bananaman starred Bill Oddie and was created by Steve Bright. It was shown on the BBC, which have their headquarters at Broadcasting House.\\nTrane is a subsidiary company that was founded on 01-01-1913.\\nCiudad Ayala, a city with a population density of 1604.0, falls into the UTC offset -6 time zone.\\nLiselotte Grschebina attended the school of Applied Arts in Stuttgart before dying in Petah Tikva.\\nThe University of Burgundy is located in France: a country who calls their leader “President of the Senate”.\\nCiudad Ayala is 1147m above sea level and Governator is a leader of that city.\\nThe population in the Ciudad Ayala metropolitan area is 1777539, the population density in Ciudad Ayala is 1604 and the leader title is the city manager.\\nLiselotte Grschebina studied at the School of Applied Arts in Stuttgart before dying in Petah Tikva.\\nGraco Ramírez is a leader in Morelos.\\nThe University of Burgundy has 900 staff members, 16800 undergraduate students and 1299 doctoral students.\\nThe Bedford Aerodrome runway is made of concrete, and the aerodrome is 83.2 meters from above the sea level.\\nNie Haisheng was part of the mission Shenzhou 10.\\nThe University of Burgundy in Dijon has 16,800 undergraduate students.\\nHypermarcas produces medicines.\\nAaron Turner is a post-metal singer born in Massachusetts who started performing in 1995 and is a musician in the Lotus Eaters band.\\nThe Acharya Institute of Technology campus, directed by Dr. G. Prabhukumar and located in Soldevanahalli, Acharya Dr. Sarvapalli Radhakrishnan Road, Hessarghatta Main Road, Bangalore – 560090, India, was given the Technical Campus status by the All India Council for Technical Education, located in Mumbai, India.\\nPiotr Hallmann was born in Gdynia, Poland on August 23, 1987. Gdynia is governed by a vice president.\\nThe 17068.8 millimetres long ALCO RS-3 has a four-stroke engine.\\nNie Haisheng took part in the Shenzhou 6 mission was part of Shenzhou 10 mission.\\nBionico is a dessert from Mexico that contains granola. Mexican people live in Mexico and use the peso as their currency.\\nBananaman first aired on 3rd October 1983 and was broadcast by the BBC based at Broadcasting House in London. One of the stars of the show was Bill Oddie.\\nThe creator of Bananaman, broadcasted by the BBC, is John Geering.\\nThe Bedford Aerodrome serves the Bedford Autodrome and is operated by MotorSport Vision.\\nThe runway name of Al Asad Airbase is 08/26 operated by the United States Air Force.\\nCiudad Ayala is a city led by City Manager. The government type of this city is council-manager.\\nLike the dessert Sandesh, Bionico is also a dessert which contains condensed milk and is from the Guadalajara region of Mexico. Mexico uses the peso as their currency and has Mexican people.\\nA former NWC graduate (MA, 1957), Alan Shepard was born in New Hampshire on Nov 18, 1923.\\nThe United States Air Force is the operating organisation for Al Asad airbase which is in Iraq.\\nThe ALCO RS-3 was produced between May 1950 and August 1956 and was built by Montreal Locomotive Works. This locomotive has a diesel-electric transmission and is 17068.8 millimetres in length.\\nLiselotte Grschebina was born in the German Empire and studied at the School of Applied Arts in Stuttgart.\\nFounded on January 1, 2001, Hypermarcas is a pharmaceutical company that makes healthcare products and sells cosmetics.\\nThe University of Burgundy has 27400 students and the number of doctoral students in the University is 1299.\\nLiselotte Grschebina was a photographer who studied at the School of Applied Arts in Stuttgart. She has Israeli nationality and was born in Karlsruhe in the German Empire.\\nCiudad Ayala is in the Pacific Daylight Time zone and it has a UTC offset of -6.\\nThe architect of the Alan B Miller Hall in the USA is Robert A M Stern and the current tenants are The Mason School of Business. The Hall is located at 101 Ukrop Way and is owned by The College of William and Mary.\\nPublished on July 29, 1954, The Fellowship of the Ring is a novel belonging to the Fantasy genre.\\nThe Pontiac Rageous was assembled in Michigan until the end of production in 1997.\\nThe population density of Mexico is 61.0.\\nAlan Shepard was born on November 18, 1923 in New Hampshire graduated from NWC in 1957 with an M.A.\\nAgremiacao Sportiva Arapiraquense plays in the Campeonato Brasileiro Serie C league and has 1700 members.\\nWith 17000 members the Agremiação Sportiva Arapiraquense club play in the Campeonato Brasileiro Série C league. Their ground is called Estádio Municipal Coaracy da Mata Fonseca and is based in Arapiraca. Previous champions of Campeonato Brasileiro Série C include Vila Nova Futebol Clube.\\nAlan Shepard was an American who was born on Nov 18, 1923 in New Hampshire, was selected by NASA in 1959 and died in California.\\nChinabank was founded on the 16th of August, 1920 to provide banking services to customers.\\nPiotr Hallmann (born in Gdynia, Poland) on August 25,1987,weighs 70.308 kilograms.\\nAlan Shepard was born on November 18, 1923 in New Hampshire and his nationality was the United States. In 1959, he was selected by NASA and later died in California.\\nThe Baku Turkish Martyrs\\' Memorial in Azerbaijan was designed by Huseyin Butuner and Hilmi Guner.\\nThe University of Burgundy its campus located in Dijon, France, with a total of 9,400 postgraduate students and 2,900 staff members.\\nAgremiação Sportiva Arapiraquense (full name \"Agremiação Sportiva Arapiraquense\") play in the Campeonato Brasileiro Série C league, where the Vila Nova Futebol Clube were champions . Estádio Municipal Coaracy da Mata Fonseca in Arapiraca is the name of the ground of Agremiação Sportiva Arapiraquense.\\nThe 1147 Stavropolis has a periapsis of 260855000000.0 and an orbital period of 1249.6.\\nGrigory Neujmin discovered 1147 Stavropolis and the orbital period of the asteroid 1147 Stavropolis is 1249.6 days.\\nAmeriGas, located in King of Prussia, Pennsylvania, serves the United States and is classified as being a part of the energy industry.\\nThe 11th Mississippi Infantry Monument in Adams County, Pennsylvania, which was established in the year 2000. Frederick County, Maryland is located to the southwest of Adams County, Pennsylvania.\\nAgremiacao Sportiva Arapiraquense (nickname: Asa Gigante) plays in the Campeonato Brasileiro Serie C league, based in Brazil.\\nAaron Turner plays electric guitar in a Post-metal band, Twilight.\\nOwned by the College of William and Mary and tenanted by the Mason School of Business, the Alan B Miller Hall\\'s building is based at 101 Ukrop Way, Williamsburg, Virginia, USA. It was built by Robert Stern with building starting on 30 March of 2007.\\nIn the USA where African Americans are an ethnic group, Abraham A. Ribicoff was born. He died in New York City and was married to Ruth Ribicoff.\\nLiselotte Grschebina was born in Karlsruhe on May 2nd, 1908.\\nMotorSport Vision is the operating organisation for Bedford Aerodrome in Thurleigh, which serves the Bedford Autodrome. The aerodrome has a runway called 08/26 which is 1095 long.\\nCiudad Ayala, located in the Pacific Standard Daylight Time Zone, has a population density of 1604, and one of its leaders is named Juan Nolasco.\\nThe currency of Mexico, where the local people are called Mexicans, is the peso. Bionico is a dessert containing raisins, which can be found in Guadalajara there and another type of dessert is Sandesh.\\nThe ethnic groups of Israel includes Arab citizens and Israeli nationals such as Liselotte Grschebina.\\nNie Haisheng, born in Zaoyang in the Hubei province was a part of both the Shenzhou 10 and Shenzhou 6 missions.\\nThe founding date of Gdynia, Poland was on February 10, 1926.\\nThe birthplace of Grigory Neujmin was Tbilisi.\\nCiudad Ayala is a city in Mexico, where Roberto Gil Zuarth is one of the leaders.\\nThe epoch of 1147 Stavropolis is 31 July 2016 (JD2457600.5). Its periapsis is 260855000000.0 and the apoapsis of the asteroid is 418476000000.0 A.U.\\nAgremiação Sportiva Arapiraquense\\'s full name is \"Agremiação Sportiva Arapiraquense\". The team are based in Arapiraca at their home ground Estádio Municipal Coaracy da Mata Fonseca and they play in the Campeonato Brasileiro Série C league whose champion is Vila Nova Futebol Clube.\\nIsrael has a total area of 20,769 square kilometers.\\nThe University of Burgundy, located in Dijon, has 16,800 undergraduate students, 2900 staff members, and 27400 students.\\nAgremiação Sportiva Arapiraquense play in the Campeonato Brasileiro Série C league, Campeonato Brasileiro Série C is from Brazil, Agremiação Sportiva Arapiraquense has 17000 members, Agremiacao Sportiva Arapiraquense are managed by Vica.\\nThe population of Mexico is 61 inhabitants per square kilometre.\\nMexico has a population density of 61.0.\\nThe University of Burgundy has 27400 total students with 16800 as undergraduates. It has a staff of 2900 and is located in the city of Dijon.\\nPiotr Hallmann was born on August 25. 1987 in Gdynia, Poland, which is in the time zone UTC +2.\\nCiudad Ayala is a city that uses a type of government called council-manager government, and one of the leaders is the City Manager.\\nLiselotte Grschebina died on the 14th of June, 1994 in Israel.\\nThe Pontiac Rageous was assembled in Detroit, Michigan.\\nThe University of Burgundy is located in France, whose leader\\'s title is the \"President of the Senate\".\\nThe Mason school of business are the current tenants of Alan B Miller Hall in 101 Ukrop Way which is owned by The College of William and Mary.\\nCiudad Ayala is a city, in Mexico. Its population in the metropolitan area is 1777539 and the population density is 1604. The goverment type is council-manager and its leader title is city manager.\\nThe Bedford Aerodrome has an operating organization that is called the MotorSport Vision and the ICAO location identifier for the aerodrome is EGBF.\\nThe Acharya Institute of Technology is affiliated with Visvesvaraya Technological University and was established in the year 2000.\\nBorn in New Hampshire on November 18th 1923 and dying in California, Alan Shepard was a US national who was selected by NASA in 1959.\\nLiselotte Grschebina was born May 2, 1908, in Karlsruhe, and died June 14, 1994, in Israel.\\nLiselotte Grschebina has Israeli nationality and died in Israel. The population density of Israel is 387.63.\\nThe pharmaceutical and healthcare company, Hypermarcas was founded on January 1, 2001. It also produces cosmetics.\\nBananaman, first aired on 3rd October 1983, is broadcasted by STV.\\nAleksandr Prudnikov plays for FC Amkar Perm managed by Gadzhi Gadzhiyev. He also played for FC Spartak Moscow\\'s youth team.\\nAlan Shepard was born on November 18,1923 in New Hampshire and died in senator Dianne Feinstein\\'s state, California.\\nThe Acharya Institute of Technology, affiliated with Visvesvaraya Technological University, is located in the state of Karnataka at Soldevanahalli, Acharya Dr. Sarvapalli Radhakrishnan Road, Hessarghatta Main Road, Bangalore - 560090.\\nThe Fellowship of the Ring, released on July 29, 1954, belongs to the fantasy literary genre.\\n1147 Stavropolis apoapsis is 418476000000.0, and the orbital period of the asteroid is 1249.6 days.\\nLiselotte Grschebina was born in Karlsruhe on May 2nd, 1908. She died on June 14, 1994 in Israel.\\n1147 Stavropolis, discovered by Grigory Neujmin, has an orbital period of 1249.6 and an apoapsis of 418476000000.0 AU.\\nFounded on January 1, 2000 GMA New Media offers products such as mobile applications with the key person being Felipe Gozon.\\nHypermarcas makes $1,800,000,000 a year.\\nLocated in Thurleigh and operated by MotorSport Vision, the Bedford Aerodrome has a runway length of 1095 which is named 08/26. The aerodrome serves the Bedford Autodrome.\\nBanking service, Chinabank, was founded on 1920-08-16.\\nEstádio Municipal Coaracy da Mata Fonseca is the name of the ground of Agremiação Sportiva Arapiraquense in Arapiraca. Agremiacao Sportiva Arapiraquense has 17000 members & played in the Campeonato Brasileiro Série C league, where the Vila Nova Futebol Clube were champions.\\nThe 1147 Stavropolis discovered by Grigory Neujmin (death date December 17, 1946) with a rotation period of 20378.5 has an apoapsis of 418476000000.0. The orbital period of this asteroid is 1249.6 days.\\nAaron Turner, born in the United States, sings for a living with the post-metal band Twilight.\\nNie Haisheng was born in Zaoyang in the People\\'s Republic of China on the 13th of October 1964 and also worked as a fighter pilot.\\nAbraham A. Ribicoff was born in the United States which is home to the ethnic group, African Americans.\\nThe Estadio Municipal Coaracy da Mata Fonseca in Arapiraca is the ground of Agremiação Sportiva Arapiraquense (which has 17000 members) that play in the Campeonato Brasileiro Série C league. Champions, The Vila Nova Futebol Clube at Campeonato Brasileiro Série C from Brazil.\\nLiselotte Grschebina was born in Karlsruhe and died in Israel, which is made up of different ethnic groups. Those groups include Arabs and Israeli Jews.\\nAdolfo Suárez Madrid–Barajas Airport is in Alcobendas; it is operated by ENAIRE in Madrid and has a runway length of 3,500.\\nThe Bedford Aerodrome has an operating organization that is called the MotorSport Vision which is located in the city of Fawkham.\\nAleksandr Prudnikov played for FC Spartak Moscow\\'s youth team and now plays for FC Amkar Perm which is his current club, which is located at the Otkrytiye Arena.\\nCiudad Ayala, a city led by a City Manager and other leaders, has a population density of 1604.0 with a population of 1,777,539 in the metropolitan area. The UTC offset of Ciudad Ayala is -6.\\nThe College of William and Mary, located in the United States, owns the Alan B. Miller Hall, whose current tenants are the Mason School of Business. Robert A M Stern is the architect of the Alan B Miller Hall.\\nFrederick County Maryland is southwest of Adams County Pennsylvania, the location of the 11th Mississippi Infantry Monument, erected in 2000.\\nThe 11th Mississippi Infantry Monument that falls under the category of Contributing property was established in the year 2000 in the municipality of Gettysburg, Pennsylvania. Adams County Pennsylvania is East of Franklin County, Pennsylvania.\\nAleksandr Prudnikov plays for FC Amkar Perm and is a member of the youth side of FC Spartak Moscow. The manager of FC Amkar Perm is Gadzhi Gadzhiyev.\\nAdolfo Suarez Madrid-Barajas Airport in Alcobendas is operated by ENAIRE, which is based in Madrid. The airport\\'s runway length is 3500 and the runway name is 14L/32R.\\nFelipe Gozon is the key person of GMA New Media, a company founded on 01/01/2000 that makes mobile apps.\\nThe Fellowship of the Ring, a work of fantasy literature, was published by George Allen & Unwin on July 29, 1954.\\nThe 11th Mississippi Infantry Monument is located in the United States, falls under the category of Contributing property, is in the municipality of Gettysburg, Pennsylvania, and was established in the year 2000. 11th Mississippi Infantry Monument\\'s location is Adams County, Pennsylvania, and to the southeast of Adams County, Pennsylvania lies Carroll County, Maryland.\\nAgremiação Sportiva Arapiraquense nicknamed Asa Gigante play in the Campeonato Brasileiro Série C league from Brazil.\\n11th Mississippi Infantry Monument\\'s location is Adams County, Pennsylvania and falls under the category of contributing property.\\nKarlsruhe is located in Germany.\\nThe novel 1634: The Bavarian Crisis, which was written by Eric Flint, preceded Ring of Fire II.\\nGrigory Neujmin was born in the city of Tbilisi.\\nThe Mason School of Business are the current tenants of Alan B Miller Hall, located at 101 Ukrop Way in the United States and owned by the College of William and Mary.\\nGMA New Media is located in the GMA Network Center in the Philippines. Their main product is online games but they also produce web services.\\nThe Mason School of Business, in the United States, is the current tenant of the Alan B Miller Hall located at 101 Ukrop Way in the state of Virginia. Robert A.M. Stern, the architect of the Alan B Miller Hall, started building it on March 30, 2007 and completed it on June 1, 2009.\\nAaron Turner originated from the United states, singing in the post-metal genre for a living. Aaron Turner also played with the band Twilight.\\nAgremiação Sportiva Arapiraquense is a team of 17000 members managed by Vica that play in the Brazilian based Campeonato Brasileiro Série C league.\\nBorn in New Hampshire in 1923, Alan Shepard died in California. The Purple Finch is a native bird from his home state.\\nCiudad Ayala is in the Pacific Standard Time Zone, and City Manager is the leader title for Ciudad Ayala.\\nAdolfo Suárez Madrid–Barajas Airport is in Alcobendas which is operated by ENAIRE in Madrid and has an elevation of 610.0 metres above sea level.\\nThe asteroid 1147 Stavropolis, discovered by Grigory Neujmin, has an orbital period of 1249.6 days.\\nLocated in Madrid, ENAIRE is the operating organisation for Adolfo Suarez Madrid-Barajas airport, which has a runway length of 3500.0 and is located at Madrid, Paracuellos de Jarama, San Sebastián de los Reyes and Alcobendas.\\nCumberland county, Pennsylvania is north of Adams County, Pennsylvania which is the location of the 11th Mississippi Infantry Monument.\\nVila Nova Futebol Clube are the champions of Campeonato Brasileiro Serie C league played by Agremiacao Sportiva Arapiraquense. The club has 17000 members and their ground is Estadio Municipal Coaracy da Mata Fonseca located in Arapiraca.\\nThe Pontiac Rageous, a coupe, was assembled on the assembly line in Detroit, Michigan.\\nThe Ciudad Ayala city, a part of Morelos with population density and population of 1604.0 and 1,777,539 respectively, has a UTC offset of -6. The government type of Ciudad Ayala is council-manager government and City Manager is one of the leaders.\\nBionico is a dessert found in Mexico where Enrique Pena Nieto is the leader and its currency is the peso.\\nThe Vila Nova Futebol Clube were champions at the Campeonato Brasileiro Série C, a league that contains the 17000 member Agremiacao Sportiva Arapiraquense that competed in the 2015 Campeonato Brasileiro Serie C.\\nDetroit is a city in Michigan.\\nMorelos is a state in the country or Mexico.\\nHypermarcas is a pharmaceutical company located in Sao Paulo, Brazil. (Brazil is led by both Michel Temer and Carmen Lucia.).\\nAgremiação Sportiva Arapiraquense, which is the club\\'s full official name, play in the Campeonato Brasileiro Série C league.\\nAlan Shepard was born November 18th, 1923 in New Hampshire.\\nThe population density of Israel is 387.63 people per square kilometre of land area and the leader title of Israel is Prime Minister. Liselotte Grschebina, born in the German Empire, is an Israeli national.\\nPiotr Hallmann\\'s birthplace was in Gdynia, Poland.\\nThe Mason School of Business are the current tenants of Alan B Miller Hall, which was completed on June 1st, 2009 in Virginia.\\nCiudad Ayala (part of Morelos) is a city in Mexico.Ciudad Ayala is 1147m above sea level.\\nAdolfo Suárez Madrid–Barajas Airport is located in Alcobendas. This airport is operated by ENAIRE, which is located in Madrid. The runway is named 18R/36L and has a length of 4,349 meters. The airport is situated 610 meters above the sea level.\\nThe University of Burgundy is in Dijon, France.\\nEstádio Municipal Coaracy da Mata Fonseca is the name of the ground of Agremiação Sportiva Arapiraquense located in Arapiraca and their full name as \"Agremiação Sportiva Arapiraquense\". Agremiação Sportiva Arapiraquense play in the Brazil Campeonato Brasileiro Série C league in which Vila Nova Futebol Clube is the champion.\\nGMA New Media is located in Quezon City in the Philippines, whose total area is 165.33.\\nThe apoapsis of 1147 Stavropolis is 418476000000.0. This astronomical body has an epoch of 31 July 2016, this is julian day 2457600.5. The periapsis of 1147 Stavropolis is 260855000000 which has an orbital period of 1249.6 days.\\nNie Haisheng worked as a fighter pilot.\\nThe location of the Bedford Aerodrome is Thurleigh where the area code is 01234.\\nThe Acharya Institute of Technology, affiliated with Visvesvaraya Technological University and given the Technical Campus status to the Acharya Institute of Technology by the All India Council for Technical Education, is located at Soldevanahalli, Acharya Dr. Sarvapalli Radhakrishnan Road, Hessarghatta Main Road, Bangalore - 560090.\\nThe Two Towers, the sequel to The Fellowship of the Ring, published by George Allen & Unwin.\\nNie Haisheng, from the People\\'s Republic of China, was born on October 13, 1964, in Zaoyang and was a fighter pilot.\\nThe University of Burgundy, located in Dijon, has 2900 staff members, 16800 undergraduate students, and 27400 students.\\nThe Bedford Aerodrome serves the Bedford Autodrome; it is 83.2104 meters above sea level and has a runway length of 1095.\\nIn the USA African Americans are an ethnic group. Abraham A. Ribicoff was born in the USA and later died there in New York City after being married to Ruth Ribicoff during his life.\\nAleksandr Prudnikov currently plays for FC Amkar Perm and is 185 cm tall, he previously played for FC Spartak Moscow\\'s youth team.\\nA New Hampshire native, Alan Shepard died in California on July 21, 1998.\\nAcharya Institute of Technology was given the \\'Technical Campus\\' status by All India Council for Technical Education located in Mumbai which is affiliated with the Visvesvaraya Technological University. Acharya Institute of Technology\\'s director is Dr. G. P. Prabhukumar which was established in the year 2000, located at Soldevanahalli, Acharya Dr. Sarvapalli Radhakrishnan Road, Hessarghatta Main Road, Bangalore – 560090.\\nPiotr Hallmann was born in Gdynia, Poland which has a UTC of +02:00.\\nAgremiação Sportiva Arapiraquense competed and play in the 2015 Campeonato Brasileiro Série C league from Brazil on their ground Estádio Municipal Coaracy da Mata Fonseca in Arapiraca..The Vila Nova Futebol Clube were champions.'"
      ]
     },
     "execution_count": 3,
     "metadata": {},
     "output_type": "execute_result"
    }
   ],
   "source": [
    "input_raw_text = open('data/webnlg_dataset.txt').read()\n",
    "\n",
    "# use 100 random webnlg dataset examples\n",
    "import random\n",
    "input_raw_text = input_raw_text.splitlines()\n",
    "random.shuffle(input_raw_text)\n",
    "input_raw_text = '\\n'.join(input_raw_text[:200])"
   ]
  },
  {
   "cell_type": "code",
   "execution_count": 4,
   "metadata": {},
   "outputs": [],
   "source": [
    "config = {\n",
    "    # OIE\n",
    "    'oie_llm': 'llama3.1',\n",
    "    'oie_prompt_template_file_path': 'prompt_templates/oie_fsp_template.txt',\n",
    "    'oie_few_shot_example_file_path': 'few_shot_examples/oie_few_shot_examples.txt',\n",
    "    # SD\n",
    "    'sd_llm': 'llama3.1',\n",
    "    'sd_prompt_template_file_path': 'prompt_templates/sd_fsp_template.txt',\n",
    "    'sd_few_shot_example_file_path': 'few_shot_examples/sd_few_shot_examples.txt',\n",
    "    # SA\n",
    "    'sa_target_schema_file_path': 'schemas/webnlg_schema.csv',\n",
    "    'sa_llm': 'llama3.1',\n",
    "    'sa_embedding_model': 'sentence-transformers/all-MiniLM-L6-v2',\n",
    "    'sa_prompt_template_file_path': 'prompt_templates/sa_template.txt'\n",
    "}\n",
    "eda = EDA(**config)"
   ]
  },
  {
   "cell_type": "code",
   "execution_count": 5,
   "metadata": {},
   "outputs": [
    {
     "name": "stderr",
     "output_type": "stream",
     "text": [
      "Extracting:  48%|████▊     | 130/273 [08:55<09:49,  4.12s/it]\n"
     ]
    },
    {
     "ename": "SyntaxError",
     "evalue": "unmatched ']' (<unknown>, line 3)",
     "output_type": "error",
     "traceback": [
      "Traceback \u001b[0;36m(most recent call last)\u001b[0m:\n",
      "\u001b[0m  File \u001b[1;32m~/BrainKB/brain2kg/text2kg/utils/llm_utils.py:26\u001b[0m in \u001b[1;35mparse_raw_triplets\u001b[0m\n    structured_triplets = ast.literal_eval(raw_triplets)\u001b[0m\n",
      "\u001b[0m  File \u001b[1;32m/opt/homebrew/Cellar/python@3.12/3.12.4/Frameworks/Python.framework/Versions/3.12/lib/python3.12/ast.py:66\u001b[0m in \u001b[1;35mliteral_eval\u001b[0m\n    node_or_string = parse(node_or_string.lstrip(\" \\t\"), mode='eval')\u001b[0m\n",
      "\u001b[0;36m  File \u001b[0;32m/opt/homebrew/Cellar/python@3.12/3.12.4/Frameworks/Python.framework/Versions/3.12/lib/python3.12/ast.py:52\u001b[0;36m in \u001b[0;35mparse\u001b[0;36m\n\u001b[0;31m    return compile(source, filename, mode, flags,\u001b[0;36m\n",
      "\u001b[0;36m  File \u001b[0;32m<unknown>:1\u001b[0;36m\u001b[0m\n\u001b[0;31m    [['Mexico','currency','peso'][['Mexicans','areCalledAs','Mexican'],['Mexico','populationNoun','Mexicans']]\u001b[0m\n\u001b[0m     ^\u001b[0m\n\u001b[0;31mSyntaxError\u001b[0m\u001b[0;31m:\u001b[0m invalid syntax. Perhaps you forgot a comma?\n",
      "\nDuring handling of the above exception, another exception occurred:\n",
      "Traceback \u001b[0;36m(most recent call last)\u001b[0m:\n",
      "\u001b[0m  File \u001b[1;32m~/Library/Caches/pypoetry/virtualenvs/brain2kg-saEV5tpU-py3.12/lib/python3.12/site-packages/IPython/core/interactiveshell.py:3577\u001b[0m in \u001b[1;35mrun_code\u001b[0m\n    exec(code_obj, self.user_global_ns, self.user_ns)\u001b[0m\n",
      "\u001b[0m  Cell \u001b[1;32mIn[5], line 1\u001b[0m\n    output_kg_list = eda.extract_kg(\u001b[0m\n",
      "\u001b[0m  File \u001b[1;32m~/BrainKB/brain2kg/text2kg/eda_pipeline.py:84\u001b[0m in \u001b[1;35mextract_kg\u001b[0m\n    oie_triplets, schema_definition_dict_list, aligned_triplets_list = self._extract_kg_helper(sentences)\u001b[0m\n",
      "\u001b[0m  File \u001b[1;32m~/BrainKB/brain2kg/text2kg/eda_pipeline.py:106\u001b[0m in \u001b[1;35m_extract_kg_helper\u001b[0m\n    oie_triplets = self.extractor.extract(\u001b[0m\n",
      "\u001b[0m  File \u001b[1;32m~/BrainKB/brain2kg/text2kg/extractor.py:39\u001b[0m in \u001b[1;35mextract\u001b[0m\n    extracted_triplets_list = parse_raw_triplets(completion)\u001b[0m\n",
      "\u001b[0m  File \u001b[1;32m~/BrainKB/brain2kg/text2kg/utils/llm_utils.py:31\u001b[0m in \u001b[1;35mparse_raw_triplets\u001b[0m\n    structured_triplets = ast.literal_eval(raw_triplets)\u001b[0m\n",
      "\u001b[0m  File \u001b[1;32m/opt/homebrew/Cellar/python@3.12/3.12.4/Frameworks/Python.framework/Versions/3.12/lib/python3.12/ast.py:66\u001b[0m in \u001b[1;35mliteral_eval\u001b[0m\n    node_or_string = parse(node_or_string.lstrip(\" \\t\"), mode='eval')\u001b[0m\n",
      "\u001b[0;36m  File \u001b[0;32m/opt/homebrew/Cellar/python@3.12/3.12.4/Frameworks/Python.framework/Versions/3.12/lib/python3.12/ast.py:52\u001b[0;36m in \u001b[0;35mparse\u001b[0;36m\n\u001b[0;31m    return compile(source, filename, mode, flags,\u001b[0;36m\n",
      "\u001b[0;36m  File \u001b[0;32m<unknown>:3\u001b[0;36m\u001b[0m\n\u001b[0;31m    ['Mexico','currency','peso'],['Mexico','peopleAreCalledAs','Mexicans']]\u001b[0m\n\u001b[0m                                                                          ^\u001b[0m\n\u001b[0;31mSyntaxError\u001b[0m\u001b[0;31m:\u001b[0m unmatched ']'\n"
     ]
    }
   ],
   "source": [
    "output_kg_list = eda.extract_kg(\n",
    "    input_raw_text,\n",
    "    output_dir='examples/outputs'\n",
    ")"
   ]
  },
  {
   "cell_type": "code",
   "execution_count": null,
   "metadata": {},
   "outputs": [],
   "source": [
    "# Before\n",
    "output_kg_list[0]"
   ]
  },
  {
   "cell_type": "code",
   "execution_count": null,
   "metadata": {},
   "outputs": [],
   "source": [
    "# After\n",
    "output_kg_list[1]"
   ]
  },
  {
   "cell_type": "code",
   "execution_count": null,
   "metadata": {},
   "outputs": [],
   "source": [
    "from brain2kg.text2kg.kg_grapher import KGVisualizer\n",
    "\n",
    "final_triplets = output_kg_list[1]\n",
    "kgv = KGVisualizer(final_triplets)\n",
    "kgv.graph_kg()"
   ]
  }
 ],
 "metadata": {
  "kernelspec": {
   "display_name": "venv",
   "language": "python",
   "name": "python3"
  },
  "language_info": {
   "codemirror_mode": {
    "name": "ipython",
    "version": 3
   },
   "file_extension": ".py",
   "mimetype": "text/x-python",
   "name": "python",
   "nbconvert_exporter": "python",
   "pygments_lexer": "ipython3",
   "version": "3.12.4"
  }
 },
 "nbformat": 4,
 "nbformat_minor": 2
}
