{
 "cells": [
  {
   "cell_type": "code",
   "execution_count": 1,
   "metadata": {},
   "outputs": [
    {
     "name": "stderr",
     "output_type": "stream",
     "text": [
      "[nltk_data] Downloading package punkt to /Users/jamino/nltk_data...\n",
      "[nltk_data]   Package punkt is already up-to-date!\n",
      "/Users/jamino/Library/Caches/pypoetry/virtualenvs/brain2kg-saEV5tpU-py3.12/lib/python3.12/site-packages/sentence_transformers/cross_encoder/CrossEncoder.py:11: TqdmWarning: IProgress not found. Please update jupyter and ipywidgets. See https://ipywidgets.readthedocs.io/en/stable/user_install.html\n",
      "  from tqdm.autonotebook import tqdm, trange\n"
     ]
    }
   ],
   "source": [
    "from brain2kg.text2kg.eda_pipeline import EDA"
   ]
  },
  {
   "cell_type": "code",
   "execution_count": 2,
   "metadata": {},
   "outputs": [],
   "source": [
    "input_raw_text = \"\"\"\\\n",
    "The location of Trane is Swords, Dublin.\n",
    "The Ciudad Ayala city, a part of Morelos with population density and population of 1604.0 and 1,777,539 respectively, has a UTC offset of -6. The government type of Ciudad Ayala is council-manager government and City Manager is one of the leaders.\n",
    "The 17068.8 millimeter long ALCO RS-3 has a diesel-electric transmission.\n",
    "Alan B. Miller Hall, in Virginia, USA, was designed by Robert A.M. Stern. The address of the hall is \"101 Ukrop Way\" and the current tenants are the Mason School of Business.\n",
    "Liselotte Grschebina was born in Karlsruhe and died in Israel. Ethnic groups in Israel include Arabs.\n",
    "Agremiação Sportiva Arapiraquense managed by Vica has 17000 members and play in the Campeonato Brasileiro Série C league which is from Brazil.\n",
    "Bananaman first aired on the 10th of March, 1983 and was created by Steve Bright. It was broadcast by the BBC.\n",
    "The 11th Mississippi Infantry Monument, built in 2000, is placed in the municipality of Gettysburg in Pennsylvania which is in Adams County, USA. The 11th Mississippi Infantry Monument is classified as a Contributing Property. Cumberland county, Pennsylvania is to the north of Adams County.\n",
    "The government type in France is unitary state.\n",
    "The College of William and Mary is the owner of the Alan B. Miller Hall, located in Virginia at 101 Ukrop Way and currently occupied by the Mason School of Business.\n",
    "Al Asad Airbase is operated by the United States Air Force and has a runway length of 3,990.\n",
    "Born in New Hampshire on November 18th 1923 and dying in California, Alan Shepard was a US national who was selected by NASA in 1959.\n",
    "Morelos is a state in the country or Mexico.\n",
    "Nie Haisheng was a fighter pilot from the People's Republic of China who was born in Hubei, Zaoyang on October 13, 1964.\n",
    "Bedford Aerodrome operated by MotorSport Vision has EGBF as its ICAO location identifier.\n",
    "Adolfo Suarez Madrid-Barajas airport is located at Paracuellos de Jarama, is operated by ENAIRE and is 610 metres above sea level. It also has a 3500 long runway.\n",
    "The Estadio Municipal Coaracy da Mata Fonseca in Arapiraca is the ground of Agremiação Sportiva Arapiraquense (which has 17000 members) that play in the Campeonato Brasileiro Série C league. Champions, The Vila Nova Futebol Clube at Campeonato Brasileiro Série C from Brazil.\n",
    "The Acharya Institute of Technology, affiliated with Visvesvaraya Technological University, is located in Belgaum, India.\n",
    "The Baku Turkish Martyrs' Memorial is located in Azerbaijan, where Artur Rasizade was a leader.\n",
    "Bionico, a food found in Mexico, is a dish served for dessert.\n",
    "Aaron Turner is a singer who started performing in 1995 and played with the band, Twilight.\n",
    "Bananaman, which was broadcasted by STV, was first aired on 10/03/1983.\n",
    "Founded on January 1, 2001, Hypermarcas is a pharmaceutical company that makes healthcare products and sells cosmetics.\n",
    "The Mason School of Business is located in Virginia in the United States and is based at The Alan B Miller Hall on 101 Ukrop Way. The building was designed by architect Robert A.M. Stern.\n",
    "Bionico is a dessert food made from chopped fruits, sour cream, condensed milk, granola, shredded coconut and raisins. This dish can be found in Mexico, a country that is inhabited by Mexicans and uses the peso as its currency.\\\n",
    "\"\"\"\n",
    "\n",
    "# input_raw_text = \"\"\"\\\n",
    "# Founded on January 1, 2001, Hypermarcas is a pharmaceutical company that makes healthcare products and sells cosmetics.\\\n",
    "# \"\"\"\n",
    "\n",
    "config = {\n",
    "    # OIE\n",
    "    'oie_llm': 'llama3.1',\n",
    "    'oie_prompt_template_file_path': 'prompt_templates/oie_fsp_template.txt',\n",
    "    'oie_few_shot_example_file_path': 'few_shot_examples/oie_few_shot_examples.txt',\n",
    "    # SD\n",
    "    'sd_llm': 'llama3.1',\n",
    "    'sd_prompt_template_file_path': 'prompt_templates/sd_fsp_template.txt',\n",
    "    'sd_few_shot_example_file_path': 'few_shot_examples/sd_few_shot_examples.txt',\n",
    "    # SA\n",
    "    'sa_target_schema_file_path': 'schemas/webnlg_schema.csv',\n",
    "    'sa_llm': 'llama3.1',\n",
    "    'sa_embedding_model': 'sentence-transformers/all-MiniLM-L6-v2',\n",
    "    'sa_prompt_template_file_path': 'prompt_templates/sa_template.txt'\n",
    "}"
   ]
  },
  {
   "cell_type": "code",
   "execution_count": 3,
   "metadata": {},
   "outputs": [],
   "source": [
    "eda = EDA(**config)"
   ]
  },
  {
   "cell_type": "code",
   "execution_count": 4,
   "metadata": {},
   "outputs": [
    {
     "name": "stderr",
     "output_type": "stream",
     "text": [
      "100%|██████████| 1/1 [00:11<00:00, 11.54s/it]\n",
      "100%|██████████| 1/1 [00:10<00:00, 10.06s/it]\n",
      "100%|██████████| 1/1 [00:02<00:00,  2.66s/it]\n"
     ]
    }
   ],
   "source": [
    "output_kg_list = eda.extract_kg(\n",
    "    input_raw_text,\n",
    "    output_dir='examples/outputs'\n",
    ")"
   ]
  },
  {
   "cell_type": "code",
   "execution_count": 5,
   "metadata": {},
   "outputs": [
    {
     "data": {
      "text/plain": [
       "[[['Hypermarcas', 'foundedOn', 'January_1,_2001'],\n",
       "  ['Hypermarcas', 'type', 'pharmaceutical_company']]]"
      ]
     },
     "execution_count": 5,
     "metadata": {},
     "output_type": "execute_result"
    }
   ],
   "source": [
    "# Before\n",
    "output_kg_list[0]"
   ]
  },
  {
   "cell_type": "code",
   "execution_count": 6,
   "metadata": {},
   "outputs": [
    {
     "data": {
      "text/plain": [
       "[[['Hypermarcas', 'discovered', 'January_1,_2001'],\n",
       "  ['Hypermarcas', 'foundingDate', 'pharmaceutical_company']]]"
      ]
     },
     "execution_count": 6,
     "metadata": {},
     "output_type": "execute_result"
    }
   ],
   "source": [
    "# After\n",
    "output_kg_list[1]"
   ]
  }
 ],
 "metadata": {
  "kernelspec": {
   "display_name": "venv",
   "language": "python",
   "name": "python3"
  },
  "language_info": {
   "codemirror_mode": {
    "name": "ipython",
    "version": 3
   },
   "file_extension": ".py",
   "mimetype": "text/x-python",
   "name": "python",
   "nbconvert_exporter": "python",
   "pygments_lexer": "ipython3",
   "version": "3.12.4"
  }
 },
 "nbformat": 4,
 "nbformat_minor": 2
}
