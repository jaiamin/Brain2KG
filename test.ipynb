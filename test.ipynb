{
 "cells": [
  {
   "cell_type": "code",
   "execution_count": null,
   "metadata": {},
   "outputs": [],
   "source": [
    "from brain2kg.text2kg.extractor import TripletExtractor\n",
    "from brain2kg.text2kg.definer import SchemaDefiner\n",
    "from brain2kg.text2kg.aligner import SchemaAligner"
   ]
  }
 ],
 "metadata": {
  "language_info": {
   "name": "python"
  }
 },
 "nbformat": 4,
 "nbformat_minor": 2
}
