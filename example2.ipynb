{
 "cells": [
  {
   "cell_type": "code",
   "execution_count": 1,
   "metadata": {},
   "outputs": [],
   "source": [
    "from create_kg import (\n",
    "    create_knowledge_graph,\n",
    "    compare_knowledge_graphs\n",
    ")"
   ]
  },
  {
   "cell_type": "code",
   "execution_count": 2,
   "metadata": {},
   "outputs": [],
   "source": [
    "sentence = \"\"\"\n",
    "I.\tINTRODUCTION \n",
    "\n",
    "What is ADHD? \n",
    "\n",
    "Symptoms \n",
    "Attention Deficit Hyperactivity Disorder (ADHD) is among the most prevalent neurodevelopmental disorders, primarily characterized by hyperactivity, impulsivity, and inattention (Rubia, 2018). The manifestation of ADHD symptoms is remarkably heterogeneous, not only encompassing the well-documented executive function deficits but also extending to cognitive domains. Individuals with ADHD often exhibit significant variability in symptom expression across different settings, even within the same individual. This variability can be particularly pronounced in tasks that are long, repetitive, and demand sustained cognitive effort, highlighting the disorder's impact on the cognitive energetic modulation of one's degree of arousal and a marked aversion to delay (Posner et al., 2020).\n",
    "Further complicating the clinical picture of ADHD is an increased sensitivity to sensory stimuli, including touch, visual, and auditory inputs (Oscar Berman et al., 2008), alongside deficits in vigilant attention and motor inhibition (Baroni & Castellanos, 2015). These sensory and attentional challenges are accompanied by difficulties in emotional and motivational regulation, impaired fine motor coordination, and poor time management skills. Individuals with ADHD often exhibit more frequent disruptive behaviors, unstable sleep patterns, and academic achievements that fall short of their potential intellectual capabilities (Martella et al., 2020). Collectively, these symptoms contribute to a significantly impaired quality of life, underscoring the complex and multifaceted nature of ADHD.\n",
    "\n",
    "Models of ADHD \n",
    "Inhibition model (Barkley, 2000)\n",
    "Cognitive energetic model (Sergeant, 2000)\n",
    "\n",
    "Structural deficits (check ref 5, 115 Posner)\n",
    "Maturational delay of 2-3 years in reaching peak of thinks of cerebrum (including PFC) (ref 115 Posner) \n",
    "\n",
    "\tFunctional deficits \n",
    "Functional deficits in individuals with ADHD are characterized by abnormalities in several neural networks and circuits critical for cognitive and emotional regulation. These include the Default Mode Network (DMN), dorsal and ventral attention networks, salience networks, frontostriatal, and mesocorticolimbic circuits (Posner et al., 2014). Notably, research has identified reduced connectivity within the DMN in children aged 6 to 17, suggesting a delayed neuromaturation of the DMN, which is pivotal for internally directed thought processes and the transition between rest and task-oriented activities (Posner et al., 2014).\n",
    "There is also evidence to suggest potential disruptions in the interactions between the DMN and the dorsal and ventral attention networks. Such disruptions could underlie the attentional deficits observed in ADHD, as these networks are integral for directing attention to relevant external stimuli and tasks (Posner et al., 2014). Furthermore, the dopaminergic mesolimbic system, which plays a crucial role in reward processing, shows abnormalities in individuals with ADHD. This includes reduced volumes of the nucleus accumbens and diminished activation of mesolimbic pathways when anticipating rewards, which may contribute to the motivational deficits commonly seen in ADHD.\n",
    "Additionally, abnormal connectivity between the DMN and the cognitive control network has been observed. These networks typically operate in a dynamic, reciprocal manner, with the DMN active during rest or internally focused states and the cognitive control network engaged during tasks requiring attention and executive function. The interference of DMN activity with cognitive control processes might indicate a fundamental neural mechanism contributing to the executive function deficits in ADHD (Posner et al., 2014). This complex interplay of functional deficits across multiple neural networks and circuits underscores the neurobiological complexity of ADHD, highlighting the importance of considering these neural underpinnings in the diagnosis and treatment of the disorder.\n",
    "\n",
    "Genetic and epigenetic factors\n",
    "Genetic and epigenetic factors play a significant role in the etiology of Attention Deficit Hyperactivity Disorder (ADHD), with heritability estimates as high as 70-80% based on twin studies. This high degree of heritability underscores the importance of considering family history in the diagnosis of ADHD, highlighting a strong genetic underpinning in its development (Posner et al., 2020).\n",
    "Beyond genetic predisposition, certain prenatal and perinatal factors have been consistently associated with an increased risk of ADHD. Prematurity and low birth weight, for instance, have shown a robust association with the disorder. These factors may reflect early environmental influences on the developing brain, potentially interacting with genetic predispositions to increase the risk of ADHD.\n",
    "Maternal stress and the consumption of tobacco during pregnancy have also been correlated with ADHD symptoms in offspring. However, the relationship between these factors and ADHD may be partially explained by underlying genetic factors. That is, the genetic predisposition for ADHD in the child may also be associated with behaviors or conditions in the parent, such as stress response or smoking, suggesting a complex interplay between genetic and environmental factors in the manifestation of ADHD (Posner et al., 2020).\n",
    "\"\"\"\n",
    "\n",
    "prompt_example = f\"\"\"\n",
    "Given the following text, please extract the triples according to the PROV ontology. \n",
    "In the output, only include the triples in the given output format using a single subject and object for each relation pair.\n",
    "\n",
    "CONTEXT:\n",
    "Ontology: PROV (Provenance Ontology)\n",
    "Core Concepts: Entity, Activity, Agent\n",
    "\n",
    "Text: {sentence}\n",
    "\n",
    "Output format: relation (subject, object)\n",
    "\n",
    "Ensure that the extracted triples accurately represent the provenance information in the text, \n",
    "focusing on entities, activities, agents, and their relationships as defined in the PROV ontology.\n",
    "\"\"\""
   ]
  },
  {
   "cell_type": "code",
   "execution_count": 3,
   "metadata": {},
   "outputs": [
    {
     "data": {
      "text/plain": [
       "KnowledgeGraph(triples=[Triple(subject='Person', relation='Has', object='Car'), Triple(subject='Book', relation='IsAbout', object='Python')])"
      ]
     },
     "execution_count": 3,
     "metadata": {},
     "output_type": "execute_result"
    }
   ],
   "source": [
    "prompt = prompt_example\n",
    "\n",
    "agent1_kg = create_knowledge_graph(prompt=prompt, model_name='llama3')\n",
    "agent2_kg = create_knowledge_graph(prompt=prompt, model_name='mistral')\n",
    "\n",
    "agent3_kg = compare_knowledge_graphs(model_name='llama3', kg1=agent1_kg, kg2=agent2_kg, original_prompt=prompt)\n",
    "agent3_kg"
   ]
  },
  {
   "cell_type": "code",
   "execution_count": 4,
   "metadata": {},
   "outputs": [
    {
     "name": "stdout",
     "output_type": "stream",
     "text": [
      "AGENT 1:\n",
      "{\"triples\":[{\"subject\":\"Text: I. INTRODUCTION \",\"relation\":\"wasGeneratedBy\",\"object\":\"ADHD\"},{\"subject\":\"Rubia (2018)\",\"relation\":\"wasAttributedTo\",\"object\":\"study\"},{\"subject\":\"study\",\"relation\":\"used\",\"object\":\"hyperactivity, impulsivity, and inattention\"},{\"subject\":\"study\",\"relation\":\"hadPrimarySource\",\"object\":\"ADHD symptoms\"},{\"subject\":\"symptoms expression across different settings\",\"relation\":\"wasGeneratedBy\",\"object\":\"study\"},{\"subject\":\"Posner et al. (2020)\",\"relation\":\"wasAttributedTo\",\"object\":\"research\"},{\"subject\":\"research\",\"relation\":\"used\",\"object\":\"neural networks and circuits critical for cognitive and emotional regulation\"},{\"subject\":\"research\",\"relation\":\"hadPrimarySource\",\"object\":\"ADHD symptoms\"},{\"subject\":\"research on abnormalities in neural networks and circuits\",\"relation\":\"wasGeneratedBy\",\"object\":\"study\"},{\"subject\":\"Barkley (2000)\",\"relation\":\"wasAttributedTo\",\"object\":\"inhibition model\"},{\"subject\":\"model\",\"relation\":\"used\",\"object\":\"ADHD symptoms\"},{\"subject\":\"model\",\"relation\":\"hadPrimarySource\",\"object\":\"ADHD diagnosis and treatment\"},{\"subject\":\"Sergeant (2000)\",\"relation\":\"wasGeneratedBy\",\"object\":\"cognitive energetic model\"},{\"subject\":\"model\",\"relation\":\"used\",\"object\":\"ADHD symptoms\"},{\"subject\":\"model\",\"relation\":\"hadPrimarySource\",\"object\":\"ADHD diagnosis and treatment\"},{\"subject\":\"Posner et al. (2014)\",\"relation\":\"wasGeneratedBy\",\"object\":\"research on neural networks and circuits critical for cognitive and emotional regulation\"},{\"subject\":\"research\",\"relation\":\"used\",\"object\":\"ADHD symptoms\"},{\"subject\":\"research\",\"relation\":\"hadPrimarySource\",\"object\":\"ADHD diagnosis and treatment\"},{\"subject\":\"Martella et al. (2020)\",\"relation\":\"wasGeneratedBy\",\"object\":\"study on the impact of ADHD on quality of life\"},{\"subject\":\"study\",\"relation\":\"used\",\"object\":\"ADHD symptoms\"},{\"subject\":\"study\",\"relation\":\"hadPrimarySource\",\"object\":\"ADHD diagnosis and treatment\"},{\"subject\":\"Oscar Berman et al. (2008)\",\"relation\":\"wasGeneratedBy\",\"object\":\"research on sensory and attentional challenges in ADHD\"},{\"subject\":\"research\",\"relation\":\"used\",\"object\":\"ADHD symptoms\"},{\"subject\":\"research\",\"relation\":\"hadPrimarySource\",\"object\":\"ADHD diagnosis and treatment\"},{\"subject\":\"Bartholomew (2001)\",\"relation\":\"wasGeneratedBy\",\"object\":\"study on the genetics of ADHD\"},{\"subject\":\"study\",\"relation\":\"used\",\"object\":\"ADHD symptoms\"},{\"subject\":\"study\",\"relation\":\"hadPrimarySource\",\"object\":\"ADHD diagnosis and treatment\"}]}\n",
      "AGENT 2:\n",
      "{\"triples\":[{\"subject\":\"Attention Deficit Hyperactivity Disorder\",\"relation\":\"is characterized by\",\"object\":\"symptoms\"},{\"subject\":\"symptoms\",\"relation\":\"include\",\"object\":\"hyperactivity, impulsivity, and inattention\"},{\"subject\":\"Attention Deficit Hyperactivity Disorder\",\"relation\":\"is associated with\",\"object\":\"executive function deficits\"},{\"subject\":\"Attention Deficit Hyperactivity Disorder\",\"relation\":\"is characterized by\",\"object\":\"cognitive domains\"},{\"subject\":\"individuals with Attention Deficit Hyperactivity Disorder\",\"relation\":\"often exhibit\",\"object\":\"variability in symptom expression across different settings\"},{\"subject\":\"Attention Deficit Hyperactivity Disorder\",\"relation\":\"affects\",\"object\":\"tasks that are long, repetitive, and demand sustained cognitive effort\"},{\"subject\":\"Attention Deficit Hyperactivity Disorder\",\"relation\":\"is accompanied by\",\"object\":\"sensory and attentional challenges\"},{\"subject\":\"Attention Deficit Hyperactivity Disorder\",\"relation\":\"is characterized by\",\"object\":\"motivational deficits\"},{\"subject\":\"individuals with Attention Deficit Hyperactivity Disorder\",\"relation\":\"show\",\"object\":\"abnormalities in the dopaminergic mesolimbic system\"},{\"subject\":\"Attention Deficit Hyperactivity Disorder\",\"relation\":\"has a high degree of heritability\",\"object\":\"based on twin studies\"},{\"subject\":\"Attention Deficit Hyperactivity Disorder\",\"relation\":\"is associated with\",\"object\":\"prematurity and low birth weight\"},{\"subject\":\"Attention Deficit Hyperactivity Disorder\",\"relation\":\"is correlated with\",\"object\":\"maternal stress and tobacco consumption during pregnancy\"}]}\n",
      "AGENT 3:\n",
      "{\"triples\":[{\"subject\":\"Person\",\"relation\":\"Has\",\"object\":\"Car\"},{\"subject\":\"Book\",\"relation\":\"IsAbout\",\"object\":\"Python\"}]}\n"
     ]
    }
   ],
   "source": [
    "# JSON form output\n",
    "print('AGENT 1:')\n",
    "print(agent1_kg.model_dump_json())\n",
    "print('AGENT 2:')\n",
    "print(agent2_kg.model_dump_json())\n",
    "print('AGENT 3:')\n",
    "print(agent3_kg.model_dump_json())"
   ]
  }
 ],
 "metadata": {
  "kernelspec": {
   "display_name": "venv",
   "language": "python",
   "name": "python3"
  },
  "language_info": {
   "codemirror_mode": {
    "name": "ipython",
    "version": 3
   },
   "file_extension": ".py",
   "mimetype": "text/x-python",
   "name": "python",
   "nbconvert_exporter": "python",
   "pygments_lexer": "ipython3",
   "version": "3.12.4"
  }
 },
 "nbformat": 4,
 "nbformat_minor": 2
}
