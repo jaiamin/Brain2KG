{
 "cells": [
  {
   "cell_type": "code",
   "execution_count": 1,
   "metadata": {},
   "outputs": [],
   "source": [
    "from create_kg import (\n",
    "    create_knowledge_graph,\n",
    "    compare_knowledge_graphs\n",
    ")"
   ]
  },
  {
   "cell_type": "code",
   "execution_count": 2,
   "metadata": {},
   "outputs": [],
   "source": [
    "sentence = 'Visions of Light is a 1992 documentary film directed by Arnold Glassman, Todd McCarthy and Stuart Samuels'\n",
    "prompt_example = 'Given the following ontology and sentences, please extract the triples from the sentence according to' \\\n",
    "         'the relations in the ontology. In the output, only include the triples in the given output format using a single subject and object for each relation pair.\\n' \\\n",
    "         'CONTEXT:  \\nOntology Concepts: film, film genre, film production company, film award, city, human\\n' \\\n",
    "         'Ontology relations: director(film, human), genre(film, film genre), cast member(film, human)\\nSentence: ' \\\n",
    "         f'{sentence} \\n' \\\n",
    "         'Output format: relation (subject, object).\\n'"
   ]
  },
  {
   "cell_type": "code",
   "execution_count": 3,
   "metadata": {},
   "outputs": [
    {
     "data": {
      "text/plain": [
       "KnowledgeGraph(triples=[Triple(subject='Visions of Light', relation='genre', object='documentary'), Triple(subject='Arnold Glassman', relation='director', object='Visions of Light'), Triple(subject='Todd McCarthy', relation='director', object='Visions of Light'), Triple(subject='Stuart Samuels', relation='director', object='Visions of Light')])"
      ]
     },
     "execution_count": 3,
     "metadata": {},
     "output_type": "execute_result"
    }
   ],
   "source": [
    "prompt = prompt_example\n",
    "\n",
    "agent1_kg = create_knowledge_graph(prompt=prompt, model_name='llama3')\n",
    "agent2_kg = create_knowledge_graph(prompt=prompt, model_name='mistral')\n",
    "\n",
    "agent3_kg = compare_knowledge_graphs(model_name='llama3', kg1=agent1_kg, kg2=agent2_kg, original_prompt=prompt)\n",
    "agent3_kg"
   ]
  },
  {
   "cell_type": "code",
   "execution_count": 4,
   "metadata": {},
   "outputs": [
    {
     "name": "stdout",
     "output_type": "stream",
     "text": [
      "AGENT 1:\n",
      "{\"triples\":[{\"subject\":\"Visions of Light\",\"relation\":\"genre\",\"object\":\"documentary\"},{\"subject\":\"Visions of Light\",\"relation\":\"director\",\"object\":\"Arnold Glassman\"},{\"subject\":\"Visions of Light\",\"relation\":\"director\",\"object\":\"Todd McCarthy\"},{\"subject\":\"Visions of Light\",\"relation\":\"director\",\"object\":\"Stuart Samuels\"}]}\n",
      "AGENT 2:\n",
      "{\"triples\":[{\"subject\":\"Visions of Light\",\"relation\":\"genre\",\"object\":\"documentary\"},{\"subject\":\"Arnold Glassman\",\"relation\":\"director\",\"object\":\"Visions of Light\"},{\"subject\":\"Todd McCarthy\",\"relation\":\"director\",\"object\":\"Visions of Light\"},{\"subject\":\"Stuart Samuels\",\"relation\":\"director\",\"object\":\"Visions of Light\"}]}\n",
      "AGENT 3:\n",
      "{\"triples\":[{\"subject\":\"Visions of Light\",\"relation\":\"genre\",\"object\":\"documentary\"},{\"subject\":\"Arnold Glassman\",\"relation\":\"director\",\"object\":\"Visions of Light\"},{\"subject\":\"Todd McCarthy\",\"relation\":\"director\",\"object\":\"Visions of Light\"},{\"subject\":\"Stuart Samuels\",\"relation\":\"director\",\"object\":\"Visions of Light\"}]}\n"
     ]
    }
   ],
   "source": [
    "# JSON form output\n",
    "print('AGENT 1:')\n",
    "print(agent1_kg.model_dump_json())\n",
    "print('AGENT 2:')\n",
    "print(agent2_kg.model_dump_json())\n",
    "print('AGENT 3:')\n",
    "print(agent3_kg.model_dump_json())"
   ]
  }
 ],
 "metadata": {
  "kernelspec": {
   "display_name": "venv",
   "language": "python",
   "name": "python3"
  },
  "language_info": {
   "codemirror_mode": {
    "name": "ipython",
    "version": 3
   },
   "file_extension": ".py",
   "mimetype": "text/x-python",
   "name": "python",
   "nbconvert_exporter": "python",
   "pygments_lexer": "ipython3",
   "version": "3.12.4"
  }
 },
 "nbformat": 4,
 "nbformat_minor": 2
}
